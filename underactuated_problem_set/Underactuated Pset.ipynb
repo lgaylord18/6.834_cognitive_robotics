{
 "cells": [
  {
   "cell_type": "markdown",
   "metadata": {},
   "source": [
    "# Underactuated Systems Mini-Pset"
   ]
  },
  {
   "cell_type": "code",
   "execution_count": 2,
   "metadata": {},
   "outputs": [
    {
     "ename": "ImportError",
     "evalue": "No module named 'numpy'",
     "output_type": "error",
     "traceback": [
      "\u001b[0;31m---------------------------------------------------------------------------\u001b[0m",
      "\u001b[0;31mImportError\u001b[0m                               Traceback (most recent call last)",
      "\u001b[0;32m<ipython-input-2-f09229b9cb10>\u001b[0m in \u001b[0;36m<module>\u001b[0;34m()\u001b[0m\n\u001b[1;32m      1\u001b[0m \u001b[0;32mimport\u001b[0m \u001b[0mmath\u001b[0m\u001b[0;34m\u001b[0m\u001b[0m\n\u001b[1;32m      2\u001b[0m \u001b[0;34m\u001b[0m\u001b[0m\n\u001b[0;32m----> 3\u001b[0;31m \u001b[0;32mimport\u001b[0m \u001b[0mnumpy\u001b[0m \u001b[0;32mas\u001b[0m \u001b[0mnp\u001b[0m\u001b[0;34m\u001b[0m\u001b[0m\n\u001b[0m\u001b[1;32m      4\u001b[0m \u001b[0;32mfrom\u001b[0m \u001b[0mnumpy\u001b[0m \u001b[0;32mimport\u001b[0m \u001b[0mlinalg\u001b[0m \u001b[0;32mas\u001b[0m \u001b[0mLA\u001b[0m\u001b[0;34m\u001b[0m\u001b[0m\n\u001b[1;32m      5\u001b[0m \u001b[0;32mimport\u001b[0m \u001b[0mutils\u001b[0m\u001b[0;34m\u001b[0m\u001b[0m\n",
      "\u001b[0;31mImportError\u001b[0m: No module named 'numpy'"
     ]
    }
   ],
   "source": [
    "import math\n",
    "\n",
    "import numpy as np\n",
    "from numpy import linalg as LA\n",
    "import utils\n",
    "from tests import *"
   ]
  },
  {
   "cell_type": "markdown",
   "metadata": {},
   "source": [
    "## To be or not to be... underactuated?\n",
    "The first exersise will consist of three questions. There will be three scenarios and you will have to decide if it is or is not underactuated given the problem description, and then also to explain your reasoning. "
   ]
  },
  {
   "cell_type": "markdown",
   "metadata": {},
   "source": [
    "### 1. Floating Brick"
   ]
  },
  {
   "cell_type": "markdown",
   "metadata": {},
   "source": [
    "Image a brick floating, untouched, in mid-air. Is this system underactuated? Explain below."
   ]
  },
  {
   "cell_type": "markdown",
   "metadata": {},
   "source": [
    "YOUR ANSWER HERE"
   ]
  },
  {
   "cell_type": "markdown",
   "metadata": {},
   "source": [
    "Solution: Yes.\n",
    "\n",
    "Any object in three dimensional space has six degrees of freedom: moving in the x, y, or z direction, and rotating along its x, y, or z axis. Compare this to the zero control inputs on the brick. \n",
    "\n",
    "i.e. dim(q)>rank(controlled) 6>0\n"
   ]
  },
  {
   "cell_type": "markdown",
   "metadata": {},
   "source": [
    "### 2. Double Pendulum"
   ]
  },
  {
   "cell_type": "markdown",
   "metadata": {},
   "source": [
    "<img src=\"photos/doublependulum.jpg\" height=\"200\" width=\"200\">"
   ]
  },
  {
   "cell_type": "markdown",
   "metadata": {},
   "source": [
    "A double pendulum with motors on both joins is shown above. If a joint is blue, it has a motor. Green simply means a mass. The motors can can control their relative theta. The state of the system is given by $[\\theta_1, \\theta_2]$ and the system is controlled by the torques of each motor $[\\tau_1,\\tau_2]$.\n",
    "We are interested in controlling $[\\theta_1, \\theta_2]$ and the motor controls the position directly. Is this system underactuated? Explain below."
   ]
  },
  {
   "cell_type": "markdown",
   "metadata": {},
   "source": [
    "YOUR ANSWER HERE"
   ]
  },
  {
   "cell_type": "markdown",
   "metadata": {},
   "source": [
    "Solution: No.\n",
    "    \n",
    "Every joint has a motor. The base pendulum can swing left and right and so too can the pendulum attached to that. Therefore, dim(q)=2, but because we have a motor on both joins, the rank(controlled)=2 as well.\n"
   ]
  },
  {
   "cell_type": "markdown",
   "metadata": {},
   "source": [
    "### 3. Tank and Turret"
   ]
  },
  {
   "cell_type": "markdown",
   "metadata": {},
   "source": [
    "<img src=\"photos/tank.jpg\" height=\"200\" width=\"200\">"
   ]
  },
  {
   "cell_type": "markdown",
   "metadata": {},
   "source": [
    "Consider the tank with a fixed turret as shown above. The state of the tank is given by $[x,\\ y,\\ \\theta]$, where $x,\\ y$ describe its position as from above and $\\theta$ is the turret's angle from North. The tank is controlled by torque from the wheel belts which create F1 and F2. "
   ]
  },
  {
   "cell_type": "markdown",
   "metadata": {},
   "source": [
    "YOUR ANSWER HERE"
   ]
  },
  {
   "cell_type": "markdown",
   "metadata": {},
   "source": [
    "Solution: Yes.\n",
    "    \n",
    "$[F_1\\ F_2]\\ \\alpha\\ [\\ddot{\\theta}\\ \\ddot{x}\\ \\ddot{y}]$\n",
    "rank(F)=2 which is less than dim(q)=3\n"
   ]
  },
  {
   "cell_type": "markdown",
   "metadata": {},
   "source": [
    "# Simple Car"
   ]
  },
  {
   "cell_type": "markdown",
   "metadata": {},
   "source": [
    "A great and simple example of an underactuated system is a standard car. In a car, you have three degrees of freedom, but you only have two control inputs: the steering wheel and the accelerator. The first is able to control the angle the car moves in and the second is able to control the speed at which the car moves. We can visualize the car as shown in the below image."
   ]
  },
  {
   "cell_type": "markdown",
   "metadata": {},
   "source": [
    "<img src=\"photos/simple_car.png\">"
   ]
  },
  {
   "cell_type": "markdown",
   "metadata": {},
   "source": [
    "In this system, we represent the origin of the car ($x$, $y$) as the center of the rear wheels. The $x$-axis goes through the body of the car and the $y$-axis is perpendicular to the car (goes through the rear wheels). $L$ is the length of the car, measured from the center of the rear wheels to the center of the front wheels. For our purposes, we will assume a length of $1$ ($L = 1$). We will use $v$ to represent the signed speed of the car. $\\theta$ will represent the angle of the car from the x-axis on a traditional Cartesian Coordinate System. $\\phi$ is then the steering angle, which is relative to $\\theta$. In the above figure, $\\phi$ would be negative as it is going towards $\\theta$. $\\rho$ designates the turning radius at a specific steering angle ($\\phi$). For our purposes, ($\\rho$) is not necessary. \n",
    "\n",
    "We are going to represent our configuration as $X = [x, y, \\theta]^T$ and our control as $U = [v, \\phi]^T$. "
   ]
  },
  {
   "cell_type": "markdown",
   "metadata": {},
   "source": [
    "In order to describe the motion of the car, we are going to define $\\dot{x}$, $\\dot{y}$, and $\\dot{\\theta}$ as follows:\n",
    "\n",
    "$$\\dot{x} = f_1(x, y, \\theta, v, \\phi) = v \\cos{\\theta}$$\n",
    "\n",
    "$$\\dot{y} = f_2(x, y, \\theta, v, \\phi) = v \\sin{\\theta}$$\n",
    "\n",
    "$$\\dot{\\theta} = f_3(x, y, \\theta, v, \\phi) = \\frac{v}{L} \\tan{\\phi} = v \\tan{\\phi}$$"
   ]
  },
  {
   "cell_type": "markdown",
   "metadata": {},
   "source": [
    "## Linearize the System\n",
    "\n",
    "As you saw in lecture, in order to use LQR, we must linearize the system. The common convention is to create two matrices, $A$ and $B$, to represent $\\frac{\\partial{f}}{\\partial{X}}_{X=X^*,U=U^*}$ and $\\frac{\\partial{f}}{\\partial{U}}_{X=X^*,U=U^*}$ respectively. Now you will write functions that create the $A$ and $B$ matrices for the simple car dynamics at a given configuration ($X, U$). \n",
    "\n",
    "Return $A = \\frac{\\partial{f}}{\\partial{X}}_{X=X^*,U=U^*}$ as a list of lists $([[]])$ so it can be viewed as a matrix. For example, the Identity Matrix:\n",
    "<table>\n",
    "    <tr>\n",
    "        <th>1</th>\n",
    "        <th>0</th>\n",
    "        <th>0</th>\n",
    "    </tr>\n",
    "    <tr>\n",
    "        <th>0</th>\n",
    "        <th>1</th>\n",
    "        <th>0</th>\n",
    "    </tr>\n",
    "    <tr>\n",
    "        <th>0</th>\n",
    "        <th>0</th>\n",
    "        <th>1</th>\n",
    "    </tr>\n",
    "</table>\n",
    "would look like $[[1, 0, 0], [0, 1, 0], [0, 0, 1]]$ as a list of lists in Python."
   ]
  },
  {
   "cell_type": "code",
   "execution_count": null,
   "metadata": {},
   "outputs": [],
   "source": [
    "# Assume X and U are 1-dimensional matrices (essentially a python list)\n",
    "# i.e. X = [x_value, y_value, theta_value], U = [v_value, phi_value]\n",
    "def A(X, U):\n",
    "    \"\"\"\n",
    "    Returns the matrix A evaluated with configuration X and controls U\n",
    "    Note: round all matrix values to 2 decimal places\n",
    "    \n",
    "    Returns:\n",
    "        (np.array) The np.array object representing A evaluated at X and U\n",
    "    \"\"\"\n",
    "    # your code here\n",
    "    raise(\"Not implemented\")\n",
    "    \n",
    "# Solution:\n",
    "# def A(X, U):\n",
    "#     a = [\n",
    "#         [0, 0, round(-U[0]*math.sin(X[2]), 2)],\n",
    "#         [0, 0, round(U[0]*math.cos(X[2]), 2)],\n",
    "#         [0, 0, 0]\n",
    "#     ]\n",
    "#     return np.array(a)"
   ]
  },
  {
   "cell_type": "markdown",
   "metadata": {},
   "source": [
    "Once you have $A$ figured out, run the test below which will evaluate your matrix at various points to ensure it is returning the correct values."
   ]
  },
  {
   "cell_type": "code",
   "execution_count": null,
   "metadata": {},
   "outputs": [],
   "source": [
    "test_correct_A_matrix(A)"
   ]
  },
  {
   "cell_type": "markdown",
   "metadata": {},
   "source": [
    "Next, we are going to do the same thing for $\\frac{\\partial{f}}{\\partial{U}}_{X=X^*,U=U^*}$, which will create a new matrix, $B$. Again, return $B = \\frac{\\partial{f}}{\\partial{U}}_{X=X^*,U=U^*}$ as a list of lists $([[]])$."
   ]
  },
  {
   "cell_type": "code",
   "execution_count": null,
   "metadata": {},
   "outputs": [],
   "source": [
    "# Assume X and U are 1-dimensional matrices (essentially a python list)\n",
    "# i.e. X = [x_value, y_value, theta_value], U = [v_value, phi_value]\n",
    "def B(X, U):\n",
    "    \"\"\"\n",
    "    Returns the matrix B evaluated with configuration X and controls U\n",
    "    Note: round all matrix values to 2 decimal places\n",
    "    \n",
    "    Returns:\n",
    "        (np.array) The np.array object representing B evaluated at X and U\n",
    "    \"\"\"\n",
    "    # your code here\n",
    "    raise(\"Not implemented\")\n",
    "    \n",
    "# Solution:\n",
    "# def B(X, U):\n",
    "#     b = [\n",
    "#         [round(math.cos(X[2]), 2), 0], \n",
    "#         [round(math.sin(X[2]), 2), 0], \n",
    "#         [round(math.tan(U[1]), 2), round(U[0]/math.cos(U[1])**2, 2)]\n",
    "#     ]\n",
    "#     return np.array(b)"
   ]
  },
  {
   "cell_type": "markdown",
   "metadata": {},
   "source": [
    "Once you have $B$ figured out, run the test below which will evaluate your matrix at various points to ensure it is returning the correct values."
   ]
  },
  {
   "cell_type": "code",
   "execution_count": null,
   "metadata": {},
   "outputs": [],
   "source": [
    "test_correct_B_matrix(B)"
   ]
  },
  {
   "cell_type": "markdown",
   "metadata": {},
   "source": [
    "### Cost Function\n",
    "Now that we are able to linearize the system, we want to create a cost function to direct our car from a starting position and direction to a goal position and direction. Write a function that uses Euclidean distance to calculate the cost between the current location, `X_p`, and the desired location, `X_g`."
   ]
  },
  {
   "cell_type": "code",
   "execution_count": null,
   "metadata": {},
   "outputs": [],
   "source": [
    "# Assume X and U are 1-dimensional matrices (essentially a python list)\n",
    "\n",
    "def euclidean_distance(X_p, X_g):\n",
    "    \"\"\" \n",
    "    Returns the euclidean distance between two points\n",
    "    Note: round your answer to 2 decimal places\n",
    "    \"\"\"\n",
    "    # Your code goes here\n",
    "    raise(\"Not Implemented\")\n",
    "\n",
    "# Solution:\n",
    "# def euclidean_distance(X_p, X_g):\n",
    "#     x_p, y_p, theta_p = X_p\n",
    "#     x_g, y_g, theta_g = X_g\n",
    "#     return round(math.sqrt((x_g - x_p)**2 + (y_g - y_p)**2 + (theta_g - theta_p)**2), 2)"
   ]
  },
  {
   "cell_type": "markdown",
   "metadata": {},
   "source": [
    "To verify you have correctly implemented the Euclidean Cost Function, run the test below."
   ]
  },
  {
   "cell_type": "code",
   "execution_count": null,
   "metadata": {},
   "outputs": [],
   "source": [
    "test_euclidean_cost(euclidean_distance)"
   ]
  },
  {
   "cell_type": "markdown",
   "metadata": {},
   "source": [
    "Now we are going to calculate the effectiveness of two different cost functions. We will be using the Euclidean distance function you wrote above and a cost function called LQR (you will learn more about this in the following section). The scenario we are evaluating is a car at position ($x = 0, y = 0$) facing perfectly East ($\\theta = 0$) and the cost to move the car to position ($x = 0, y = 0$) and facing perfectly West ($\\theta = 3.14$). \n",
    "\n",
    "Run the below function to print out the cost your Euclidean distance function provided for this scenario and the cost LQR provided for this situation. Then answer the questions below evaluating the results."
   ]
  },
  {
   "cell_type": "code",
   "execution_count": null,
   "metadata": {},
   "outputs": [],
   "source": [
    "test_cost_functions(euclidean_distance)"
   ]
  },
  {
   "cell_type": "markdown",
   "metadata": {},
   "source": [
    "Which cost function gives the more accurate result? Why might we want to use one over the other?"
   ]
  },
  {
   "cell_type": "markdown",
   "metadata": {},
   "source": [
    "\\## Your answer here ##\n",
    "\n",
    "Solution: Euclidean distance is going to be the distance for straight line between two points. The trajectory from LQR is going to look like the one that can actually be followed by a car. Thus, cost from LQR is going to be much more accurate. From LQR, you can obtain both trajectory and cost."
   ]
  },
  {
   "cell_type": "markdown",
   "metadata": {},
   "source": [
    "# LQR-RRT\\*"
   ]
  },
  {
   "cell_type": "markdown",
   "metadata": {},
   "source": [
    "## Steering Simple Car with LQR\n",
    "Using the LQR based on linearized dynamics of simple car, we can steer the vehicle close to an arbitrary point (making the state vector x converge to the point of linearization x\\*). This holds within the neighbor region of x\\* where the linearized dynamics represents the nonlinear dynamics well.Now, you are going to implement steering function that moves a vehicle to the desired position using LQR controller.\n",
    "\n",
    "Below is some more relevant pseudocode than that in the tutorial:"
   ]
  },
  {
   "cell_type": "markdown",
   "metadata": {},
   "source": [
    "```python\n",
    "def lqr_steer(X_s, X_g, U_g):\n",
    "    \n",
    "    get_linearized_A_matrix(X_g, U_g)\n",
    "    get_linearized_B_matrix(X_g, U_g)\n",
    "    K, S, E = lqr(A_mat, B_mat)\n",
    "    cost = find_cost(X_s, X_g, S)\n",
    "    trajectory = initialize_trajecoty()\n",
    "    ind = 0\n",
    "    while distance_between_most_recent_intermediate_point_to X_g >= max_dist and ind <= max_ind:\n",
    "        intermediate_point = get_next_intermediate_point()\n",
    "        trajectory = append_trajectory_with_next_intermediate_point(intermediate_point)\n",
    "        ind = ind + 1\n",
    "        \n",
    "    return trajectory, cost\n",
    "```"
   ]
  },
  {
   "cell_type": "code",
   "execution_count": null,
   "metadata": {},
   "outputs": [],
   "source": [
    "# L is the length of the vehicle (For this problem, assume L is 1 so we can ignore it in our calculations)\n",
    "# use X_g for the state's linearization point\n",
    "# use U_g for the input's linearization point\n",
    "# we are going to use continuous time LQR function for convenience\n",
    "# we need to get intermediate points for LQR that can be used for collision check\n",
    "# get intermediate points for every 0.01 seconds (dt)\n",
    "# steer the vehicle until it reaches the sphere around the goal configuration with radius of 0.3 (max_dist)\n",
    "# You can find lqr gain and solution for Riccati equation using the following function:\n",
    "#     K, S, E = utils.lqr(A, B)\n",
    "#     K is feedback gain, S is solution to Riccati equation, and E is eigenvalues of closed loop system\n",
    "\n",
    "\n",
    "max_dist = 0.3\n",
    "# max_ind is the maximum number of times to try. If your loop exceeds max_ind loops, break.\n",
    "# max_ind * dt would be the total time it takes to travel the trajectory\n",
    "max_ind = 1000\n",
    "dt = 0.01\n",
    "\n",
    "    \n",
    "\n",
    "# Solution:\n",
    " def lqr_steer(X_s, X_g, U_g):\n",
    "     \n",
    "     theta = X_g[2]\n",
    "     A_mat = A(X_g, U_g)\n",
    "     B_mat = B(X_g, U_g)\n",
    "     K, S, E = utils.lqr(A_mat, B_mat)\n",
    "     cost = np.matmul(np.matmul(np.subtract(X_g, X_s), S), np.subtract(X_g, X_s))\n",
    "     ind = 1\n",
    "     traj = [X_s]\n",
    "     X_pre = X_s\n",
    "     dist = LA.norm(np.subtract(X_s, X_g))\n",
    "\n",
    "     while dist >= max_dist and ind <= max_ind:\n",
    "         X_temp = [0, 0, 0]\n",
    "         u = np.negative(np.matmul(K, np.subtract(X_pre, X_g)))\n",
    "         u = np.array(u)\n",
    "         X_temp[0] = X_pre[0] + dt*u[0][0]*math.cos(X_pre[2])\n",
    "         X_temp[1] = X_pre[1] + dt*u[0][0]*math.sin(X_pre[2])\n",
    "         X_temp[2] = X_pre[2] + dt*u[0][0]*math.tan(u[0][1])\n",
    "         traj.append(X_temp)\n",
    "         X_pre = X_temp\n",
    "         dist = LA.norm(np.subtract(X_pre, X_g))\n",
    "         ind = ind + 1\n",
    "\n",
    "     return traj, cost"
   ]
  },
  {
   "cell_type": "code",
   "execution_count": null,
   "metadata": {},
   "outputs": [],
   "source": [
    "lqr_steer_test(lqr_steer)"
   ]
  },
  {
   "cell_type": "markdown",
   "metadata": {},
   "source": [
    "## LQR-RRT\\*\n",
    "Now, we are going to implement LQR-RRT\\*. RRT and RRT* were both covered in the Tutorial. Please reference that if you need a refresher."
   ]
  },
  {
   "cell_type": "markdown",
   "metadata": {},
   "source": [
    "<video controls src=\"photos/movie.mp4\" />"
   ]
  },
  {
   "cell_type": "markdown",
   "metadata": {},
   "source": [
    "### Rewire\n",
    "One of the key subroutine that makes RRT\\* optimal is the *rewire* subroutine. Now, you are going to implement the *rewire* subroutine. We've provided you with a partial tree structure, set of indices of near nodes, and a new node that has been recently added to the tree. For now, use Euclidean distance as the cost. \n",
    "\n",
    "Below is some more relevant pseudocode than that in the tutorial:"
   ]
  },
  {
   "cell_type": "markdown",
   "metadata": {},
   "source": [
    "```python\n",
    "def Rewire(tree, x_near_set, x_new):\n",
    "    for x_near in x_near_set:\n",
    "        find euclidean_distance between x_near, x_new\n",
    "        find the predecessors of x_near, x_new\n",
    "        use edge data to find the cumulative cost up to the relevant nodes\n",
    "        if Cost(x_new) + Cost(traj) < Cost(x_near):\n",
    "            #assume collision free\n",
    "            x_parent = Parent(x_near)\n",
    "            tree = Remove_traj(x_parent, x_near)\n",
    "            tree = add_traj(x_new, x_near) #when adding the edge_weight. round to two decimals if needed\n",
    "```\n",
    "You will not need to return anything. You will be modifying the tree passed to you. "
   ]
  },
  {
   "cell_type": "code",
   "execution_count": null,
   "metadata": {},
   "outputs": [],
   "source": [
    "def rewire(tree, x_near_set, x_new):\n",
    "    '''                                                                                                                                                                    \n",
    "    Does local rewiring of the tree. If it finds a better path then it changes the tree to a add this path                                                                 \n",
    "    and remove the other worse path. Does not return, but modifies the tree.\n",
    "    \n",
    "    tree (networkx.DiGraph): a directed graph representing the tree in the RRT\n",
    "    x_near_set (set): The set of nodes near to x_new\n",
    "    x_new (string): The new node from the tree\n",
    "    '''\n",
    "    raise(\"Not implemented\")\n",
    "\n",
    "# Solution:\n",
    "# def rewire(tree, x_near_set, x_new):\n",
    "#         '''                                                                                                                                                                    \n",
    "#         Does local rewiring of the tree. If it finds a better path then it changes the tree to a add this path                                                                 \n",
    "#         and remove the other worse path. Does not return, but modifies the tree.\n",
    "\n",
    "#         tree (networkx.DiGraph): a directed graph representing the tree in the RRT\n",
    "#         x_near_set (set): The set of nodes near to x_new\n",
    "#         x_new (string): The new node from the tree                                                                                                                                       \n",
    "#         '''\n",
    "#         for x_near in x_near_set:\n",
    "#             e_dist=5.39 #euclidean_distance(x_near, x_new)\n",
    "#             x_new_pred='A'#[]\n",
    "#             x_near_pred='B'#[]\n",
    "#             new_cumulative_cost=e_dist+tree.get_edge_data(x_new_pred,x_new)['cumulative_cost']\n",
    "#             if  new_cumulative_cost < tree.get_edge_data(x_near_pred,x_near)['cumulative_cost']:\n",
    "#                 collision_free=True\n",
    "#                 if collision_free:\n",
    "#                     x_near_parent = tree.predecessors(x_near)\n",
    "#                     tree.remove_edge(x_near_pred, x_near)\n",
    "#                     tree.add_edge(x_new, x_near,cumulative_cost=new_cumulative_cost)"
   ]
  },
  {
   "cell_type": "code",
   "execution_count": null,
   "metadata": {},
   "outputs": [],
   "source": [
    "rewire_test(rewire)"
   ]
  },
  {
   "cell_type": "markdown",
   "metadata": {},
   "source": [
    "Congratulations, you finished the Underactuated MiniPset!"
   ]
  }
 ],
 "metadata": {
  "kernelspec": {
   "display_name": "Python 3",
   "language": "python",
   "name": "python3"
  },
  "language_info": {
   "codemirror_mode": {
    "name": "ipython",
    "version": 3
   },
   "file_extension": ".py",
   "mimetype": "text/x-python",
   "name": "python",
   "nbconvert_exporter": "python",
   "pygments_lexer": "ipython3",
   "version": "3.5.2"
  }
 },
 "nbformat": 4,
 "nbformat_minor": 2
}
